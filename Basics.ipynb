{
 "cells": [
  {
   "cell_type": "markdown",
   "metadata": {
    "collapsed": true
   },
   "source": [
    "# Gun Deaths in USA from 2012 to 2014\n",
    "\n",
    "From the dataquest guided project in the Intermediate Python developer course. \n",
    "This project made use of a guns.csv file (data is from FiveThirtyEight) and a census information file (census.csv)\n",
    "\n",
    "---\n",
    "\n",
    "**' '** -- this is an identifier column, which contains the row number. It's common in CSV files to include a unique identifier for each row, but we can ignore it in this analysis.\n",
    "\n",
    "**year** -- the year in which the fatality occurred.\n",
    "\n",
    "**month** -- the month in which the fatality occurred.\n",
    "\n",
    "**intent** -- the intent of the perpetrator of the crime. This can be Suicide, Accidental, NA, Homicide, or Undetermined.\n",
    "\n",
    "**police** -- whether a police officer was involved with the\n",
    "shooting. Either 0 (false) or 1 (true).\n",
    "\n",
    "**sex** -- the gender of the victim. Either M or F.\n",
    "\n",
    "**age** -- the age of the victim.\n",
    "\n",
    "**race** -- the race of the victim. Either Asian/Pacific Islander, Native American/Native Alaskan, Black, Hispanic, or White.\n",
    "\n",
    "**hispanic** -- a code indicating the Hispanic origin of the victim.\n",
    "\n",
    "**place** -- where the shooting occurred. Has several categories, which you're encouraged to explore on your own.\n",
    "\n",
    "**education** -- educational status of the victim. Can be one of the following:\n",
    "\n",
    "    1 -- Less than High School\n",
    "\n",
    "    2 -- Graduated from High School or equivalent\n",
    "\n",
    "    3 -- Some College\n",
    "\n",
    "    4 -- At least graduated from College\n",
    "\n",
    "    5 -- Not available"
   ]
  },
  {
   "cell_type": "code",
   "execution_count": 91,
   "metadata": {
    "collapsed": false
   },
   "outputs": [
    {
     "name": "stdout",
     "output_type": "stream",
     "text": [
      "[['', 'year', 'month', 'intent', 'police', 'sex', 'age', 'race', 'hispanic', 'place', 'education'], ['1', '2012', '01', 'Suicide', '0', 'M', '34', 'Asian/Pacific Islander', '100', 'Home', '4'], ['2', '2012', '01', 'Suicide', '0', 'F', '21', 'White', '100', 'Street', '3'], ['3', '2012', '01', 'Suicide', '0', 'M', '60', 'White', '100', 'Other specified', '4'], ['4', '2012', '02', 'Suicide', '0', 'M', '64', 'White', '100', 'Home', '4']]\n"
     ]
    }
   ],
   "source": [
    "import csv\n",
    "\n",
    "f= open(\"guns.csv\",'r')\n",
    "csvreader = csv.reader(f)\n",
    "data = list(csvreader)\n",
    "\n",
    "print(data[:5])"
   ]
  },
  {
   "cell_type": "code",
   "execution_count": 92,
   "metadata": {
    "collapsed": true
   },
   "outputs": [],
   "source": [
    "headers = data[0]\n",
    "data = data[1::]"
   ]
  },
  {
   "cell_type": "code",
   "execution_count": 93,
   "metadata": {
    "collapsed": false
   },
   "outputs": [],
   "source": [
    "years = [row[1] for row in data]"
   ]
  },
  {
   "cell_type": "code",
   "execution_count": 94,
   "metadata": {
    "collapsed": false
   },
   "outputs": [
    {
     "name": "stdout",
     "output_type": "stream",
     "text": [
      "{'2012': 33563, '2013': 33636, '2014': 33599}\n"
     ]
    }
   ],
   "source": [
    "year_counts = {}\n",
    "for year in years:\n",
    "    if year in year_counts:\n",
    "        year_counts[year] = year_counts[year] + 1\n",
    "    else:\n",
    "        year_counts[year] = 1\n",
    "print(year_counts) # Displays the total number of gun deaths per year"
   ]
  },
  {
   "cell_type": "markdown",
   "metadata": {},
   "source": [
    "---\n",
    "♣ Gun related deaths seem to be consistent year on year. (About 33'500)\n",
    "\n",
    "---"
   ]
  },
  {
   "cell_type": "code",
   "execution_count": 95,
   "metadata": {
    "collapsed": false
   },
   "outputs": [],
   "source": [
    "import datetime\n",
    "dates = [datetime.datetime(year = int(row[1]),month = int(row[2]),day = 1) for row in data]"
   ]
  },
  {
   "cell_type": "code",
   "execution_count": 96,
   "metadata": {
    "collapsed": false
   },
   "outputs": [
    {
     "data": {
      "text/plain": [
       "{datetime.datetime(2012, 1, 1, 0, 0): 2758,\n",
       " datetime.datetime(2012, 2, 1, 0, 0): 2357,\n",
       " datetime.datetime(2012, 3, 1, 0, 0): 2743,\n",
       " datetime.datetime(2012, 4, 1, 0, 0): 2795,\n",
       " datetime.datetime(2012, 5, 1, 0, 0): 2999,\n",
       " datetime.datetime(2012, 6, 1, 0, 0): 2826,\n",
       " datetime.datetime(2012, 7, 1, 0, 0): 3026,\n",
       " datetime.datetime(2012, 8, 1, 0, 0): 2954,\n",
       " datetime.datetime(2012, 9, 1, 0, 0): 2852,\n",
       " datetime.datetime(2012, 10, 1, 0, 0): 2733,\n",
       " datetime.datetime(2012, 11, 1, 0, 0): 2729,\n",
       " datetime.datetime(2012, 12, 1, 0, 0): 2791,\n",
       " datetime.datetime(2013, 1, 1, 0, 0): 2864,\n",
       " datetime.datetime(2013, 2, 1, 0, 0): 2375,\n",
       " datetime.datetime(2013, 3, 1, 0, 0): 2862,\n",
       " datetime.datetime(2013, 4, 1, 0, 0): 2798,\n",
       " datetime.datetime(2013, 5, 1, 0, 0): 2806,\n",
       " datetime.datetime(2013, 6, 1, 0, 0): 2920,\n",
       " datetime.datetime(2013, 7, 1, 0, 0): 3079,\n",
       " datetime.datetime(2013, 8, 1, 0, 0): 2859,\n",
       " datetime.datetime(2013, 9, 1, 0, 0): 2742,\n",
       " datetime.datetime(2013, 10, 1, 0, 0): 2808,\n",
       " datetime.datetime(2013, 11, 1, 0, 0): 2758,\n",
       " datetime.datetime(2013, 12, 1, 0, 0): 2765,\n",
       " datetime.datetime(2014, 1, 1, 0, 0): 2651,\n",
       " datetime.datetime(2014, 2, 1, 0, 0): 2361,\n",
       " datetime.datetime(2014, 3, 1, 0, 0): 2684,\n",
       " datetime.datetime(2014, 4, 1, 0, 0): 2862,\n",
       " datetime.datetime(2014, 5, 1, 0, 0): 2864,\n",
       " datetime.datetime(2014, 6, 1, 0, 0): 2931,\n",
       " datetime.datetime(2014, 7, 1, 0, 0): 2884,\n",
       " datetime.datetime(2014, 8, 1, 0, 0): 2970,\n",
       " datetime.datetime(2014, 9, 1, 0, 0): 2914,\n",
       " datetime.datetime(2014, 10, 1, 0, 0): 2865,\n",
       " datetime.datetime(2014, 11, 1, 0, 0): 2756,\n",
       " datetime.datetime(2014, 12, 1, 0, 0): 2857}"
      ]
     },
     "execution_count": 96,
     "metadata": {},
     "output_type": "execute_result"
    }
   ],
   "source": [
    "date_counts = {}\n",
    "for date in dates:\n",
    "    if date in date_counts:\n",
    "        date_counts[date] = date_counts[date] + 1\n",
    "    else:\n",
    "        date_counts[date] = 1\n",
    "\n",
    "date_counts # Displays the total number of gun deaths per month, per year"
   ]
  },
  {
   "cell_type": "markdown",
   "metadata": {},
   "source": [
    "---\n",
    "♣ Gun related deaths per month is fairly consistent as well. No months stand out as having a huge variance\n",
    "\n",
    "---\n"
   ]
  },
  {
   "cell_type": "code",
   "execution_count": 97,
   "metadata": {
    "collapsed": true
   },
   "outputs": [],
   "source": [
    "# Function to count how many times each item appears in a column\n",
    "def count_column(input_lst,column):\n",
    "    col_counts = {}\n",
    "    for row in input_lst:\n",
    "        if row[column] in col_counts:\n",
    "            col_counts[row[column]] = col_counts[row[column]] + 1\n",
    "        else:\n",
    "            col_counts[row[column]] = 1\n",
    "    return col_counts       "
   ]
  },
  {
   "cell_type": "code",
   "execution_count": 98,
   "metadata": {
    "collapsed": false
   },
   "outputs": [],
   "source": [
    "sex_counts = count_column(data,5)\n",
    "race_counts = count_column(data,7)"
   ]
  },
  {
   "cell_type": "code",
   "execution_count": 99,
   "metadata": {
    "collapsed": false
   },
   "outputs": [
    {
     "data": {
      "text/plain": [
       "{'F': 14449, 'M': 86349}"
      ]
     },
     "execution_count": 99,
     "metadata": {},
     "output_type": "execute_result"
    }
   ],
   "source": [
    "sex_counts"
   ]
  },
  {
   "cell_type": "code",
   "execution_count": 100,
   "metadata": {
    "collapsed": false
   },
   "outputs": [
    {
     "data": {
      "text/plain": [
       "{'Asian/Pacific Islander': 1326,\n",
       " 'Black': 23296,\n",
       " 'Hispanic': 9022,\n",
       " 'Native American/Native Alaskan': 917,\n",
       " 'White': 66237}"
      ]
     },
     "execution_count": 100,
     "metadata": {},
     "output_type": "execute_result"
    }
   ],
   "source": [
    "race_counts"
   ]
  },
  {
   "cell_type": "markdown",
   "metadata": {},
   "source": [
    "---\n",
    "♣ Gun deaths in the US, seem to occur consitently year on year,  month on month, with little variation.\n",
    "Men are more likely to die from a gun related death than women.\n",
    "White people are more likely to die from a gun related death than other races.\n",
    "\n",
    "The next things that should be investigated include:\n",
    "- what percentage of each race is male/female\n",
    "- what is the biggest intent per each race/gender combo\n",
    "- what is the correlation between age, race, gender and intent\n",
    "- what is the correlation between education, race, gender and intent\n",
    "- which places have the most gun related deaths\n",
    "- how many gun deaths were police officers involved in\n",
    "\n",
    "---"
   ]
  },
  {
   "cell_type": "markdown",
   "metadata": {},
   "source": [
    "♣ Need a rate of gun deaths per 100'000 people of each race to compare data meaningfully. This is done by importing census data from the census.csv file and dividing the values from our gun dataset with the ppopulation numbers from the census dataset and multiplying the result by 100'000\n",
    "\n",
    "---"
   ]
  },
  {
   "cell_type": "code",
   "execution_count": 101,
   "metadata": {
    "collapsed": false
   },
   "outputs": [
    {
     "name": "stdout",
     "output_type": "stream",
     "text": [
      "[['Id', 'Year', 'Id', 'Sex', 'Id', 'Hispanic Origin', 'Id', 'Id2', 'Geography', 'Total', 'Race Alone - White', 'Race Alone - Hispanic', 'Race Alone - Black or African American', 'Race Alone - American Indian and Alaska Native', 'Race Alone - Asian', 'Race Alone - Native Hawaiian and Other Pacific Islander', 'Two or More Races'], ['cen42010', 'April 1, 2010 Census', 'totsex', 'Both Sexes', 'tothisp', 'Total', '0100000US', '', 'United States', '308745538', '197318956', '44618105', '40250635', '3739506', '15159516', '674625', '6984195']]\n"
     ]
    }
   ],
   "source": [
    "f = open(\"census.csv\",\"r\")\n",
    "csvreader = csv.reader(f)\n",
    "census = list(csvreader)\n",
    "print(census)"
   ]
  },
  {
   "cell_type": "markdown",
   "metadata": {},
   "source": [
    "---\n",
    "♣ The census data needs to be mapped to contain the same races as in our dataset\n",
    "\n",
    "---"
   ]
  },
  {
   "cell_type": "code",
   "execution_count": 102,
   "metadata": {
    "collapsed": false
   },
   "outputs": [
    {
     "data": {
      "text/plain": [
       "{'Asian/Pacific Islander': 15834141,\n",
       " 'Black': 40250635,\n",
       " 'Hispanic': 44618105,\n",
       " 'Native American/Native Alaskan': 3739506,\n",
       " 'White': 197318956}"
      ]
     },
     "execution_count": 102,
     "metadata": {},
     "output_type": "execute_result"
    }
   ],
   "source": [
    "mapping = {\n",
    "    \"Asian/Pacific Islander\": int(census[1][14]) + int(census[1][15]),\n",
    "    \"Black\":int(census[1][12]),\n",
    "    \"Native American/Native Alaskan\":int(census[1][13]),\n",
    "    \"Hispanic\":int(census[1][11]),\n",
    "    \"White\":int(census[1][10])    \n",
    "}\n",
    "mapping"
   ]
  },
  {
   "cell_type": "code",
   "execution_count": 103,
   "metadata": {
    "collapsed": false
   },
   "outputs": [
    {
     "data": {
      "text/plain": [
       "{'Asian/Pacific Islander': 8.374309664161762,\n",
       " 'Black': 57.8773477735196,\n",
       " 'Hispanic': 20.220491210910907,\n",
       " 'Native American/Native Alaskan': 24.521955573811088,\n",
       " 'White': 33.56849303419181}"
      ]
     },
     "execution_count": 103,
     "metadata": {},
     "output_type": "execute_result"
    }
   ],
   "source": [
    "race_per_hundredk = {}\n",
    "for key, value in race_counts.items():\n",
    "    race_per_hundredk[key] = value/mapping[key]*100000\n",
    "race_per_hundredk"
   ]
  },
  {
   "cell_type": "markdown",
   "metadata": {},
   "source": [
    "---\n",
    "♣ This data shows that more black people die from guns per 100'000 than other races in the US\n",
    "\n",
    "---"
   ]
  },
  {
   "cell_type": "code",
   "execution_count": 104,
   "metadata": {
    "collapsed": false
   },
   "outputs": [],
   "source": [
    "intents = [row[3] for row in data]\n",
    "races = [row[7] for row in data]"
   ]
  },
  {
   "cell_type": "code",
   "execution_count": 105,
   "metadata": {
    "collapsed": false
   },
   "outputs": [
    {
     "data": {
      "text/plain": [
       "{'Asian/Pacific Islander': 559,\n",
       " 'Black': 19510,\n",
       " 'Hispanic': 5634,\n",
       " 'Native American/Native Alaskan': 326,\n",
       " 'White': 9147}"
      ]
     },
     "execution_count": 105,
     "metadata": {},
     "output_type": "execute_result"
    }
   ],
   "source": [
    "homicide_race_counts = {}\n",
    "for i, race in enumerate(races):\n",
    "    if intents[i] == 'Homicide':\n",
    "        if race in homicide_race_counts:\n",
    "            homicide_race_counts[race] = homicide_race_counts[race] + 1\n",
    "        else:\n",
    "            homicide_race_counts[race] = 1\n",
    "\n",
    "homicide_race_counts"
   ]
  },
  {
   "cell_type": "code",
   "execution_count": 106,
   "metadata": {
    "collapsed": false
   },
   "outputs": [
    {
     "data": {
      "text/plain": [
       "{'Asian/Pacific Islander': 3.530346230970155,\n",
       " 'Black': 48.471284987180944,\n",
       " 'Hispanic': 12.627161104219914,\n",
       " 'Native American/Native Alaskan': 8.717729026240365,\n",
       " 'White': 4.6356417981453335}"
      ]
     },
     "execution_count": 106,
     "metadata": {},
     "output_type": "execute_result"
    }
   ],
   "source": [
    "homicide_race_per_hundredk = {}\n",
    "for key, value in homicide_race_counts.items():\n",
    "    homicide_race_per_hundredk[key] = value/mapping[key]*100000\n",
    "homicide_race_per_hundredk"
   ]
  },
  {
   "cell_type": "markdown",
   "metadata": {},
   "source": [
    "---\n",
    "♣ Black people are more likely to die from homicde related gun deaths in the US, than other races (48 per 100'000)\n",
    "\n",
    "---"
   ]
  },
  {
   "cell_type": "code",
   "execution_count": 107,
   "metadata": {
    "collapsed": false
   },
   "outputs": [
    {
     "data": {
      "text/plain": [
       "{'Asian/Pacific Islander': 4.705023152187416,\n",
       " 'Black': 8.278130270491385,\n",
       " 'Hispanic': 7.106980451097149,\n",
       " 'Native American/Native Alaskan': 14.841532544673013,\n",
       " 'White': 28.06217969245692}"
      ]
     },
     "execution_count": 107,
     "metadata": {},
     "output_type": "execute_result"
    }
   ],
   "source": [
    "suicide_race_counts = {}\n",
    "for i, race in enumerate(races):\n",
    "    if intents[i] == 'Suicide':\n",
    "        if race in suicide_race_counts:\n",
    "            suicide_race_counts[race] = suicide_race_counts[race] + 1\n",
    "        else:\n",
    "            suicide_race_counts[race] = 1\n",
    "\n",
    "suicide_race_per_hundredk = {}\n",
    "for key, value in suicide_race_counts.items():\n",
    "    suicide_race_per_hundredk[key] = value/mapping[key]*100000\n",
    "suicide_race_per_hundredk"
   ]
  },
  {
   "cell_type": "markdown",
   "metadata": {},
   "source": [
    "---\n",
    "♣ White people are more likely to commit suicide using a gun than other races in the US.\n",
    "\n",
    "---"
   ]
  },
  {
   "cell_type": "code",
   "execution_count": 108,
   "metadata": {
    "collapsed": false
   },
   "outputs": [
    {
     "data": {
      "text/plain": [
       "{'Asian/Pacific Islander': 0.07578560782046845,\n",
       " 'Black': 0.814893976206835,\n",
       " 'Hispanic': 0.3249801846133985,\n",
       " 'Native American/Native Alaskan': 0.5883130017708221,\n",
       " 'White': 0.5736904466492313}"
      ]
     },
     "execution_count": 108,
     "metadata": {},
     "output_type": "execute_result"
    }
   ],
   "source": [
    "accidental_race_counts = {}\n",
    "for i, race in enumerate(races):\n",
    "    if intents[i] == 'Accidental':\n",
    "        if race in accidental_race_counts:\n",
    "            accidental_race_counts[race] = accidental_race_counts[race] + 1\n",
    "        else:\n",
    "            accidental_race_counts[race] = 1\n",
    "\n",
    "accidental_race_per_hundredk = {}\n",
    "for key, value in accidental_race_counts.items():\n",
    "    accidental_race_per_hundredk[key] = value/mapping[key]*100000\n",
    "accidental_race_per_hundredk"
   ]
  },
  {
   "cell_type": "markdown",
   "metadata": {},
   "source": [
    "---\n",
    "♣ Accidental deaths from guns are relatively low across all races, when compared to suicide and homicide\n",
    "\n",
    "---"
   ]
  },
  {
   "cell_type": "code",
   "execution_count": 109,
   "metadata": {
    "collapsed": false
   },
   "outputs": [
    {
     "data": {
      "text/plain": [
       "{'Accidental': 1639,\n",
       " 'Homicide': 35176,\n",
       " 'NA': 1,\n",
       " 'Suicide': 63175,\n",
       " 'Undetermined': 807}"
      ]
     },
     "execution_count": 109,
     "metadata": {},
     "output_type": "execute_result"
    }
   ],
   "source": [
    "intents_counts = count_column(data,3)\n",
    "intents_counts"
   ]
  },
  {
   "cell_type": "code",
   "execution_count": 110,
   "metadata": {
    "collapsed": false
   },
   "outputs": [
    {
     "name": "stdout",
     "output_type": "stream",
     "text": [
      "Suicide:  62.67 %\n",
      "Homicide:  34.9 %\n"
     ]
    }
   ],
   "source": [
    "suicide_percentage = intents_counts['Suicide']/len(data)*100\n",
    "homicide_percentage = intents_counts['Homicide']/len(data)*100\n",
    "print('Suicide: ',round(suicide_percentage,2),'%')\n",
    "print('Homicide: ',round(homicide_percentage,2),'%')"
   ]
  },
  {
   "cell_type": "markdown",
   "metadata": {},
   "source": [
    "---\n",
    "♣ Most deaths by guns are as a result of suicide (62.67%)\n",
    "\n",
    "---"
   ]
  },
  {
   "cell_type": "code",
   "execution_count": 111,
   "metadata": {
    "collapsed": false
   },
   "outputs": [
    {
     "data": {
      "text/plain": [
       "1.390900613107403"
      ]
     },
     "execution_count": 111,
     "metadata": {},
     "output_type": "execute_result"
    }
   ],
   "source": [
    "police_count = count_column(data,4)\n",
    "percentage_involving_police = (police_count['1']/(police_count['1'] + police_count['0']))*100\n",
    "percentage_involving_police"
   ]
  },
  {
   "cell_type": "markdown",
   "metadata": {},
   "source": [
    "---\n",
    "♣ Police are only involved in 1.4% of gun related deaths in the US\n",
    "\n",
    "---"
   ]
  },
  {
   "cell_type": "code",
   "execution_count": 112,
   "metadata": {
    "collapsed": false
   },
   "outputs": [
    {
     "data": {
      "text/plain": [
       "{0: 33,\n",
       " 1: 38,\n",
       " 2: 50,\n",
       " 3: 66,\n",
       " 4: 54,\n",
       " 5: 43,\n",
       " 6: 50,\n",
       " 7: 43,\n",
       " 8: 32,\n",
       " 9: 47,\n",
       " 10: 53,\n",
       " 11: 61,\n",
       " 12: 117,\n",
       " 13: 229,\n",
       " 14: 364,\n",
       " 15: 561,\n",
       " 16: 864,\n",
       " 17: 1185,\n",
       " 18: 1753,\n",
       " 19: 2065,\n",
       " 20: 2219,\n",
       " 21: 2504,\n",
       " 22: 2712,\n",
       " 23: 2472,\n",
       " 24: 2437,\n",
       " 25: 2230,\n",
       " 26: 2231,\n",
       " 27: 2070,\n",
       " 28: 1986,\n",
       " 29: 1955,\n",
       " 30: 1869,\n",
       " 31: 1833,\n",
       " 32: 1824,\n",
       " 33: 1700,\n",
       " 34: 1699,\n",
       " 35: 1631,\n",
       " 36: 1512,\n",
       " 37: 1500,\n",
       " 38: 1491,\n",
       " 39: 1389,\n",
       " 40: 1414,\n",
       " 41: 1485,\n",
       " 42: 1492,\n",
       " 43: 1527,\n",
       " 44: 1449,\n",
       " 45: 1372,\n",
       " 46: 1437,\n",
       " 47: 1532,\n",
       " 48: 1621,\n",
       " 49: 1669,\n",
       " 50: 1674,\n",
       " 51: 1755,\n",
       " 52: 1715,\n",
       " 53: 1708,\n",
       " 54: 1684,\n",
       " 55: 1596,\n",
       " 56: 1625,\n",
       " 57: 1472,\n",
       " 58: 1510,\n",
       " 59: 1430,\n",
       " 60: 1361,\n",
       " 61: 1306,\n",
       " 62: 1099,\n",
       " 63: 1041,\n",
       " 64: 1126,\n",
       " 65: 1039,\n",
       " 66: 998,\n",
       " 67: 865,\n",
       " 68: 868,\n",
       " 69: 879,\n",
       " 70: 883,\n",
       " 71: 791,\n",
       " 72: 736,\n",
       " 73: 737,\n",
       " 74: 671,\n",
       " 75: 676,\n",
       " 76: 582,\n",
       " 77: 575,\n",
       " 78: 598,\n",
       " 79: 573,\n",
       " 80: 546,\n",
       " 81: 563,\n",
       " 82: 520,\n",
       " 83: 552,\n",
       " 84: 490,\n",
       " 85: 440,\n",
       " 86: 407,\n",
       " 87: 312,\n",
       " 88: 340,\n",
       " 89: 245,\n",
       " 90: 208,\n",
       " 91: 176,\n",
       " 92: 128,\n",
       " 93: 103,\n",
       " 94: 64,\n",
       " 95: 55,\n",
       " 96: 40,\n",
       " 97: 20,\n",
       " 98: 16,\n",
       " 99: 6,\n",
       " 100: 1,\n",
       " 101: 2,\n",
       " 102: 2,\n",
       " 107: 1,\n",
       " 'NA': 18}"
      ]
     },
     "execution_count": 112,
     "metadata": {},
     "output_type": "execute_result"
    }
   ],
   "source": [
    "for row in data:\n",
    "    if row[6] != 'NA':\n",
    "        row[6] = int(row[6])\n",
    "age_count = count_column(data,6)\n",
    "age_count"
   ]
  },
  {
   "cell_type": "code",
   "execution_count": 113,
   "metadata": {
    "collapsed": false
   },
   "outputs": [
    {
     "data": {
      "text/plain": [
       "5.598325363598484"
      ]
     },
     "execution_count": 113,
     "metadata": {},
     "output_type": "execute_result"
    }
   ],
   "source": [
    "children_deaths = 0\n",
    "for row in data:\n",
    "    if row[6] != 'NA':\n",
    "        if row[6] < 19:\n",
    "            children_deaths += 1\n",
    "children_deaths_percentage = children_deaths/len(data)*100\n",
    "children_deaths_percentage\n",
    "    "
   ]
  },
  {
   "cell_type": "markdown",
   "metadata": {},
   "source": [
    "---\n",
    "♣ 5.6% of gun related deaths occurred amoung children in the US (People under the age of 18 years)\n",
    "\n",
    "---"
   ]
  },
  {
   "cell_type": "code",
   "execution_count": 114,
   "metadata": {
    "collapsed": false
   },
   "outputs": [
    {
     "data": {
      "text/plain": [
       "{'Farm': 470,\n",
       " 'Home': 60486,\n",
       " 'Industrial/construction': 248,\n",
       " 'NA': 1384,\n",
       " 'Other specified': 13751,\n",
       " 'Other unspecified': 8867,\n",
       " 'Residential institution': 203,\n",
       " 'School/instiution': 671,\n",
       " 'Sports': 128,\n",
       " 'Street': 11151,\n",
       " 'Trade/service area': 3439}"
      ]
     },
     "execution_count": 114,
     "metadata": {},
     "output_type": "execute_result"
    }
   ],
   "source": [
    "place_counts = count_column(data,9)\n",
    "place_counts"
   ]
  },
  {
   "cell_type": "code",
   "execution_count": 115,
   "metadata": {
    "collapsed": false
   },
   "outputs": [
    {
     "data": {
      "text/plain": [
       "60.00714299886902"
      ]
     },
     "execution_count": 115,
     "metadata": {},
     "output_type": "execute_result"
    }
   ],
   "source": [
    "home_percentage = place_counts['Home']/len(data)*100\n",
    "home_percentage"
   ]
  },
  {
   "cell_type": "code",
   "execution_count": 116,
   "metadata": {
    "collapsed": false
   },
   "outputs": [
    {
     "data": {
      "text/plain": [
       "{'Farm': 378,\n",
       " 'Home': 45415,\n",
       " 'Industrial/construction': 155,\n",
       " 'Other specified': 8031,\n",
       " 'Other unspecified': 4774,\n",
       " 'Residential institution': 125,\n",
       " 'School/instiution': 295,\n",
       " 'Sports': 98,\n",
       " 'Street': 2181,\n",
       " 'Trade/service area': 1723}"
      ]
     },
     "execution_count": 116,
     "metadata": {},
     "output_type": "execute_result"
    }
   ],
   "source": [
    "places = [row[9] for row in data]\n",
    "suicide_places = {}\n",
    "for i, place in enumerate(places):\n",
    "    if intents[i] == 'Suicide':\n",
    "        if place in suicide_places:\n",
    "            suicide_places[place] = suicide_places[place] + 1\n",
    "        else:\n",
    "            suicide_places[place] = 1\n",
    "suicide_places\n",
    "            \n",
    "        "
   ]
  },
  {
   "cell_type": "code",
   "execution_count": 117,
   "metadata": {
    "collapsed": false
   },
   "outputs": [
    {
     "data": {
      "text/plain": [
       "75.08349039447145"
      ]
     },
     "execution_count": 117,
     "metadata": {},
     "output_type": "execute_result"
    }
   ],
   "source": [
    "suicide_at_home_percentage = suicide_places['Home']/place_counts['Home']*100\n",
    "suicide_at_home_percentage"
   ]
  },
  {
   "cell_type": "code",
   "execution_count": 118,
   "metadata": {
    "collapsed": false
   },
   "outputs": [
    {
     "data": {
      "text/plain": [
       "{'Farm': 76,\n",
       " 'Home': 13613,\n",
       " 'Industrial/construction': 85,\n",
       " 'NA': 1383,\n",
       " 'Other specified': 5429,\n",
       " 'Other unspecified': 3604,\n",
       " 'Residential institution': 73,\n",
       " 'School/instiution': 361,\n",
       " 'Sports': 22,\n",
       " 'Street': 8867,\n",
       " 'Trade/service area': 1663}"
      ]
     },
     "execution_count": 118,
     "metadata": {},
     "output_type": "execute_result"
    }
   ],
   "source": [
    "homicide_places = {}\n",
    "for i, place in enumerate(places):\n",
    "    if intents[i] == 'Homicide':\n",
    "        if place in homicide_places:\n",
    "            homicide_places[place] = homicide_places[place] + 1\n",
    "        else:\n",
    "            homicide_places[place] = 1\n",
    "homicide_places"
   ]
  },
  {
   "cell_type": "code",
   "execution_count": 119,
   "metadata": {
    "collapsed": false
   },
   "outputs": [
    {
     "data": {
      "text/plain": [
       "22.506034454253875"
      ]
     },
     "execution_count": 119,
     "metadata": {},
     "output_type": "execute_result"
    }
   ],
   "source": [
    "homicide_at_home_percentage = homicide_places['Home']/place_counts['Home']*100\n",
    "homicide_at_home_percentage"
   ]
  },
  {
   "cell_type": "markdown",
   "metadata": {},
   "source": [
    "---\n",
    "♣ 60% of gun related deaths occur in the home, 75% of these are suicides, 22.5% are homicides\n",
    "\n",
    "---"
   ]
  },
  {
   "cell_type": "code",
   "execution_count": 120,
   "metadata": {
    "collapsed": false
   },
   "outputs": [
    {
     "data": {
      "text/plain": [
       "{'1': 21823, '2': 42927, '3': 21680, '4': 12946, '5': 1369, 'NA': 53}"
      ]
     },
     "execution_count": 120,
     "metadata": {},
     "output_type": "execute_result"
    }
   ],
   "source": [
    "education = [row[10] for row in data]\n",
    "education_counts = count_column(data,10)\n",
    "education_counts"
   ]
  },
  {
   "cell_type": "code",
   "execution_count": 121,
   "metadata": {
    "collapsed": false
   },
   "outputs": [
    {
     "data": {
      "text/plain": [
       "{'1': 9292, '2': 26321, '3': 15533, '4': 11147, '5': 876, 'NA': 6}"
      ]
     },
     "execution_count": 121,
     "metadata": {},
     "output_type": "execute_result"
    }
   ],
   "source": [
    "education_of_suicides = {}\n",
    "for i, edu in enumerate(education):\n",
    "    if intents[i] == 'Suicide':\n",
    "        if edu in education_of_suicides:\n",
    "            education_of_suicides[edu] = education_of_suicides[edu] + 1\n",
    "        else:\n",
    "            education_of_suicides[edu] = 1\n",
    "education_of_suicides\n"
   ]
  },
  {
   "cell_type": "code",
   "execution_count": 122,
   "metadata": {
    "collapsed": false
   },
   "outputs": [
    {
     "data": {
      "text/plain": [
       "{'1': 11839, '2': 15649, '3': 5640, '4': 1559, '5': 455, 'NA': 34}"
      ]
     },
     "execution_count": 122,
     "metadata": {},
     "output_type": "execute_result"
    }
   ],
   "source": [
    "education_of_homicides = {}\n",
    "for i, edu in enumerate(education):\n",
    "    if intents[i] == 'Homicide':\n",
    "        if edu in education_of_homicides:\n",
    "            education_of_homicides[edu] = education_of_homicides[edu] + 1\n",
    "        else:\n",
    "            education_of_homicides[edu] = 1\n",
    "education_of_homicides"
   ]
  },
  {
   "cell_type": "markdown",
   "metadata": {},
   "source": [
    "---\n",
    "\n",
    "♣ People who didn't go to college are more likely to die as a result of homicide than those who did\n",
    "\n",
    "---"
   ]
  },
  {
   "cell_type": "code",
   "execution_count": 123,
   "metadata": {
    "collapsed": false
   },
   "outputs": [],
   "source": [
    "new_data = data\n",
    "for row in new_data:\n",
    "    row.append(row[7] + ' ' + row[5])\n"
   ]
  },
  {
   "cell_type": "code",
   "execution_count": 124,
   "metadata": {
    "collapsed": false
   },
   "outputs": [
    {
     "data": {
      "text/plain": [
       "{'Asian/Pacific Islander F': 244,\n",
       " 'Asian/Pacific Islander M': 1082,\n",
       " 'Black F': 2318,\n",
       " 'Black M': 20978,\n",
       " 'Hispanic F': 1073,\n",
       " 'Hispanic M': 7949,\n",
       " 'Native American/Native Alaskan F': 127,\n",
       " 'Native American/Native Alaskan M': 790,\n",
       " 'White F': 10687,\n",
       " 'White M': 55550}"
      ]
     },
     "execution_count": 124,
     "metadata": {},
     "output_type": "execute_result"
    }
   ],
   "source": [
    "race_gen = [row[11] for row in new_data]\n",
    "race_gen_counts = count_column(new_data,11)\n",
    "race_gen_counts"
   ]
  },
  {
   "cell_type": "code",
   "execution_count": 125,
   "metadata": {
    "collapsed": false
   },
   "outputs": [
    {
     "data": {
      "text/plain": [
       "{'Asian/Pacific Islander F': 99,\n",
       " 'Asian/Pacific Islander M': 646,\n",
       " 'Black F': 364,\n",
       " 'Black M': 2968,\n",
       " 'Hispanic F': 347,\n",
       " 'Hispanic M': 2824,\n",
       " 'Native American/Native Alaskan F': 62,\n",
       " 'Native American/Native Alaskan M': 493,\n",
       " 'White F': 7817,\n",
       " 'White M': 47555}"
      ]
     },
     "execution_count": 125,
     "metadata": {},
     "output_type": "execute_result"
    }
   ],
   "source": [
    "suicide_race_gen_counts = {}\n",
    "for i, race in enumerate(race_gen):\n",
    "    if intents[i] == 'Suicide':\n",
    "        if race in suicide_race_gen_counts:\n",
    "            suicide_race_gen_counts[race] = suicide_race_gen_counts[race] + 1\n",
    "        else:\n",
    "            suicide_race_gen_counts[race] = 1\n",
    "\n",
    "suicide_race_gen_counts"
   ]
  },
  {
   "cell_type": "code",
   "execution_count": 126,
   "metadata": {
    "collapsed": false
   },
   "outputs": [
    {
     "data": {
      "text/plain": [
       "{'Asian/Pacific Islander F': 140,\n",
       " 'Asian/Pacific Islander M': 419,\n",
       " 'Black F': 1898,\n",
       " 'Black M': 17612,\n",
       " 'Hispanic F': 695,\n",
       " 'Hispanic M': 4939,\n",
       " 'Native American/Native Alaskan F': 60,\n",
       " 'Native American/Native Alaskan M': 266,\n",
       " 'White F': 2580,\n",
       " 'White M': 6567}"
      ]
     },
     "execution_count": 126,
     "metadata": {},
     "output_type": "execute_result"
    }
   ],
   "source": [
    "homicide_race_gen_counts = {}\n",
    "for i, race in enumerate(race_gen):\n",
    "    if intents[i] == 'Homicide':\n",
    "        if race in homicide_race_gen_counts:\n",
    "            homicide_race_gen_counts[race] = homicide_race_gen_counts[race] + 1\n",
    "        else:\n",
    "            homicide_race_gen_counts[race] = 1\n",
    "\n",
    "homicide_race_gen_counts"
   ]
  },
  {
   "cell_type": "code",
   "execution_count": 127,
   "metadata": {
    "collapsed": false
   },
   "outputs": [
    {
     "data": {
      "text/plain": [
       "{'Asian/Pacific Islander F': 3,\n",
       " 'Asian/Pacific Islander M': 9,\n",
       " 'Black F': 34,\n",
       " 'Black M': 294,\n",
       " 'Hispanic F': 15,\n",
       " 'Hispanic M': 130,\n",
       " 'Native American/Native Alaskan F': 2,\n",
       " 'Native American/Native Alaskan M': 20,\n",
       " 'White F': 164,\n",
       " 'White M': 968}"
      ]
     },
     "execution_count": 127,
     "metadata": {},
     "output_type": "execute_result"
    }
   ],
   "source": [
    "accidental_race_gen_counts = {}\n",
    "for i, race in enumerate(race_gen):\n",
    "    if intents[i] == 'Accidental':\n",
    "        if race in accidental_race_gen_counts:\n",
    "            accidental_race_gen_counts[race] = accidental_race_gen_counts[race] + 1\n",
    "        else:\n",
    "            accidental_race_gen_counts[race] = 1\n",
    "\n",
    "accidental_race_gen_counts"
   ]
  },
  {
   "cell_type": "markdown",
   "metadata": {},
   "source": [
    "---\n",
    "♣ More Asian/Pacific Islander females die as a result of homicide by gun, rather than suicide by gun, whereas the men in this race group are more likely to die as a result of suicide by gun\n",
    "\n",
    "Native American/Native Alaskan Men are more likey to die as a result of suicide by gun rather than by homicide by gun\n",
    "\n",
    "More white men and women die from gun related suicides than homicides, but white men tend to take their life more than white women\n",
    "\n",
    "Both black men and black women have a higher rate of homicide related deaths by gun than suicide by gun.\n",
    "\n",
    "---"
   ]
  },
  {
   "cell_type": "code",
   "execution_count": null,
   "metadata": {
    "collapsed": true
   },
   "outputs": [],
   "source": []
  }
 ],
 "metadata": {
  "kernelspec": {
   "display_name": "Python 3",
   "language": "python",
   "name": "python3"
  },
  "language_info": {
   "codemirror_mode": {
    "name": "ipython",
    "version": 3
   },
   "file_extension": ".py",
   "mimetype": "text/x-python",
   "name": "python",
   "nbconvert_exporter": "python",
   "pygments_lexer": "ipython3",
   "version": "3.4.3"
  }
 },
 "nbformat": 4,
 "nbformat_minor": 0
}
